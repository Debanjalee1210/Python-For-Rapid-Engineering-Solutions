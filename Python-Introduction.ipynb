{
 "cells": [
  {
   "cell_type": "code",
   "execution_count": 1,
   "id": "c0224db8",
   "metadata": {},
   "outputs": [
    {
     "data": {
      "text/plain": [
       "'hello world'"
      ]
     },
     "execution_count": 1,
     "metadata": {},
     "output_type": "execute_result"
    }
   ],
   "source": [
    "mesg = \"hello world\"\n",
    "mesg"
   ]
  },
  {
   "cell_type": "code",
   "execution_count": 2,
   "id": "ac92ffce",
   "metadata": {},
   "outputs": [
    {
     "name": "stdout",
     "output_type": "stream",
     "text": [
      "hello world\n"
     ]
    }
   ],
   "source": [
    "print(mesg)"
   ]
  },
  {
   "cell_type": "code",
   "execution_count": 3,
   "id": "a4628979",
   "metadata": {},
   "outputs": [
    {
     "name": "stdout",
     "output_type": "stream",
     "text": [
      "hello world hello world\n"
     ]
    }
   ],
   "source": [
    "print(mesg,mesg)"
   ]
  },
  {
   "cell_type": "code",
   "execution_count": 4,
   "id": "98ff2e25",
   "metadata": {},
   "outputs": [
    {
     "name": "stdout",
     "output_type": "stream",
     "text": [
      "hello worldhello world\n"
     ]
    }
   ],
   "source": [
    "print(mesg+mesg)"
   ]
  },
  {
   "cell_type": "code",
   "execution_count": 6,
   "id": "2d9b63d1",
   "metadata": {},
   "outputs": [
    {
     "name": "stdout",
     "output_type": "stream",
     "text": [
      "hello world \n",
      "\n",
      "hello world\n"
     ]
    }
   ],
   "source": [
    "print(mesg,\"\\n\")\n",
    "print(mesg)"
   ]
  },
  {
   "cell_type": "code",
   "execution_count": 9,
   "id": "7902e73d",
   "metadata": {},
   "outputs": [],
   "source": [
    "from sys import exit"
   ]
  },
  {
   "cell_type": "code",
   "execution_count": 13,
   "id": "48ca4641",
   "metadata": {},
   "outputs": [
    {
     "name": "stdout",
     "output_type": "stream",
     "text": [
      "going to quit\n"
     ]
    },
    {
     "ename": "SystemExit",
     "evalue": "",
     "output_type": "error",
     "traceback": [
      "An exception has occurred, use %tb to see the full traceback.\n",
      "\u001b[1;31mSystemExit\u001b[0m\n"
     ]
    }
   ],
   "source": [
    "print(\"going to quit\")\n",
    "exit()\n",
    "print(\"never got here\")"
   ]
  },
  {
   "cell_type": "code",
   "execution_count": 14,
   "id": "268f6319",
   "metadata": {},
   "outputs": [
    {
     "name": "stdout",
     "output_type": "stream",
     "text": [
      "Help on built-in function exit in module sys:\n",
      "\n",
      "exit(status=None, /)\n",
      "    Exit the interpreter by raising SystemExit(status).\n",
      "    \n",
      "    If the status is omitted or None, it defaults to zero (i.e., success).\n",
      "    If the status is an integer, it will be used as the system exit status.\n",
      "    If it is another kind of object, it will be printed and the system\n",
      "    exit status will be one (i.e., failure).\n",
      "\n"
     ]
    }
   ],
   "source": [
    "help(exit)"
   ]
  },
  {
   "cell_type": "code",
   "execution_count": 16,
   "id": "3148d216",
   "metadata": {},
   "outputs": [
    {
     "name": "stdout",
     "output_type": "stream",
     "text": [
      "97\n"
     ]
    }
   ],
   "source": [
    "a_val = ord('a')\n",
    "print(a_val)"
   ]
  },
  {
   "cell_type": "code",
   "execution_count": 20,
   "id": "aebd3050",
   "metadata": {},
   "outputs": [
    {
     "name": "stdout",
     "output_type": "stream",
     "text": [
      "c\n"
     ]
    }
   ],
   "source": [
    "b_chr = chr(99)\n",
    "print(b_chr)"
   ]
  },
  {
   "cell_type": "code",
   "execution_count": 21,
   "id": "bd59296d",
   "metadata": {},
   "outputs": [
    {
     "name": "stdout",
     "output_type": "stream",
     "text": [
      "Enter a number : 9\n"
     ]
    }
   ],
   "source": [
    "answer = input(\"Enter a number : \")"
   ]
  },
  {
   "cell_type": "code",
   "execution_count": 22,
   "id": "a6e83077",
   "metadata": {},
   "outputs": [
    {
     "name": "stdout",
     "output_type": "stream",
     "text": [
      "<class 'str'>\n"
     ]
    }
   ],
   "source": [
    "print(type(answer))"
   ]
  },
  {
   "cell_type": "code",
   "execution_count": 23,
   "id": "3893094f",
   "metadata": {},
   "outputs": [
    {
     "name": "stdout",
     "output_type": "stream",
     "text": [
      "9\n"
     ]
    }
   ],
   "source": [
    "print(answer)"
   ]
  },
  {
   "cell_type": "code",
   "execution_count": 24,
   "id": "d7b5cdda",
   "metadata": {},
   "outputs": [
    {
     "name": "stdout",
     "output_type": "stream",
     "text": [
      "enter a new number : 67\n",
      "<class 'int'>\n",
      "67\n"
     ]
    }
   ],
   "source": [
    "var_num = int(input(\"enter a new number : \"))\n",
    "print(type(var_num))\n",
    "print(var_num)"
   ]
  },
  {
   "cell_type": "code",
   "execution_count": 29,
   "id": "4b72d788",
   "metadata": {},
   "outputs": [
    {
     "name": "stdout",
     "output_type": "stream",
     "text": [
      "Give me a number : 500\n",
      "Got a good value!\n",
      "It is a big one\n",
      "all done!\n"
     ]
    }
   ],
   "source": [
    "my_val = int(input(\"Give me a number : \"))\n",
    "if(my_val > 0 ):\n",
    "    print(\"Got a good value!\")\n",
    "    if(my_val<5):\n",
    "        print(\"very small\")\n",
    "    elif(my_val < 10 ):\n",
    "        print(\"Its a kind of small!\")\n",
    "    elif(my_val < 100):\n",
    "        print(\"Its is medium in size!\")\n",
    "    elif(my_val < 1000):\n",
    "        print(\"It is a big one\")\n",
    "    else:\n",
    "        print(\"Its a whooper :\",my_val )\n",
    "\n",
    "print(\"all done!\")"
   ]
  },
  {
   "cell_type": "code",
   "execution_count": 30,
   "id": "ae83a5a5",
   "metadata": {},
   "outputs": [
    {
     "name": "stdout",
     "output_type": "stream",
     "text": [
      "count is now: 8\n",
      "count is now: 7\n",
      "count is now: 6\n",
      "count is now: 5\n",
      "count is now: 4\n",
      "count is now: 3\n",
      "count is now: 2\n",
      "count is now: 1\n",
      "count is now: 0\n",
      "blast off!\n"
     ]
    }
   ],
   "source": [
    "#while loop\n",
    "counter = 8\n",
    "while(counter >= 0):\n",
    "    print(\"count is now:\",counter)\n",
    "    counter -= 1\n",
    "print(\"blast off!\")"
   ]
  },
  {
   "cell_type": "code",
   "execution_count": 31,
   "id": "5cce78a9",
   "metadata": {},
   "outputs": [
    {
     "name": "stdout",
     "output_type": "stream",
     "text": [
      "0\n",
      "2\n",
      "4\n",
      "6\n",
      "8\n",
      "10\n"
     ]
    }
   ],
   "source": [
    "for index in range(0,12,2):\n",
    "    print(index)"
   ]
  },
  {
   "cell_type": "code",
   "execution_count": 34,
   "id": "29f5db6a",
   "metadata": {},
   "outputs": [
    {
     "name": "stdout",
     "output_type": "stream",
     "text": [
      "10\n",
      "9\n",
      "8\n",
      "7\n",
      "6\n",
      "5\n",
      "4\n",
      "3\n",
      "2\n",
      "1\n",
      "finihsed the loop\n"
     ]
    }
   ],
   "source": [
    "for i in range(10,0,-1):\n",
    "    print(i)\n",
    "else:\n",
    "    print(\"finihsed the loop\")"
   ]
  },
  {
   "cell_type": "code",
   "execution_count": null,
   "id": "4e379083",
   "metadata": {},
   "outputs": [],
   "source": [
    "a= range"
   ]
  },
  {
   "cell_type": "code",
   "execution_count": 39,
   "id": "226c2635",
   "metadata": {},
   "outputs": [],
   "source": [
    "import numpy as np\n"
   ]
  },
  {
   "cell_type": "code",
   "execution_count": 41,
   "id": "fe2ac62a",
   "metadata": {},
   "outputs": [
    {
     "name": "stdout",
     "output_type": "stream",
     "text": [
      "[10  9  8  7  6  5  4  3  2  1]\n"
     ]
    }
   ],
   "source": [
    "a = np.arange(10,0,-1)\n",
    "print(a)"
   ]
  },
  {
   "cell_type": "code",
   "execution_count": 43,
   "id": "c451e09b",
   "metadata": {},
   "outputs": [
    {
     "name": "stdout",
     "output_type": "stream",
     "text": [
      "range(0, 10)\n"
     ]
    }
   ],
   "source": [
    "my_rng = range(10)\n",
    "print(my_rng)"
   ]
  },
  {
   "cell_type": "code",
   "execution_count": 44,
   "id": "6464951b",
   "metadata": {},
   "outputs": [
    {
     "name": "stdout",
     "output_type": "stream",
     "text": [
      "the range is :  range(0, 10)\n"
     ]
    }
   ],
   "source": [
    "print(\"the range is : \", my_rng)"
   ]
  },
  {
   "cell_type": "code",
   "execution_count": 46,
   "id": "21ee167b",
   "metadata": {},
   "outputs": [
    {
     "name": "stdout",
     "output_type": "stream",
     "text": [
      "the list of my range is :  [0, 1, 2, 3, 4, 5, 6, 7, 8, 9]\n"
     ]
    }
   ],
   "source": [
    "print(\"the list of my range is : \",list(my_rng))"
   ]
  },
  {
   "cell_type": "code",
   "execution_count": 48,
   "id": "162a7ea9",
   "metadata": {},
   "outputs": [
    {
     "name": "stdout",
     "output_type": "stream",
     "text": [
      "[0 1 2 3 4 5 6 7 8 9]\n"
     ]
    }
   ],
   "source": [
    "my_nums = np.arange(10)\n",
    "print(my_nums)"
   ]
  },
  {
   "cell_type": "code",
   "execution_count": 50,
   "id": "4f4abccb",
   "metadata": {},
   "outputs": [
    {
     "name": "stdout",
     "output_type": "stream",
     "text": [
      "0.0\n",
      "0.1\n",
      "0.2\n",
      "0.30000000000000004\n",
      "0.4\n",
      "0.5\n",
      "0.6000000000000001\n",
      "0.7000000000000001\n",
      "0.8\n",
      "0.9\n"
     ]
    }
   ],
   "source": [
    "for index in np.arange(0,1,0.1):\n",
    "    print(index)"
   ]
  },
  {
   "cell_type": "code",
   "execution_count": 52,
   "id": "8b6b9dfc",
   "metadata": {},
   "outputs": [
    {
     "name": "stdout",
     "output_type": "stream",
     "text": [
      "linspace in a for loop\n",
      "0.0\n",
      "0.5\n",
      "1.0\n",
      "1.5\n",
      "2.0\n",
      "enumerating ...\n",
      "0 a\n",
      "1 b\n",
      "2 c\n"
     ]
    }
   ],
   "source": [
    "print(\"linspace in a for loop\")\n",
    "for val in np.linspace(0,2,5):\n",
    "    print(val)\n",
    "print(\"enumerating ...\")\n",
    "alphs = ['a','b','c']\n",
    "for index,val in enumerate(alphs):\n",
    "    print(index,val)"
   ]
  },
  {
   "cell_type": "code",
   "execution_count": 53,
   "id": "9d0d1451",
   "metadata": {},
   "outputs": [
    {
     "name": "stdout",
     "output_type": "stream",
     "text": [
      "[]\n"
     ]
    }
   ],
   "source": [
    "#Creating list\n",
    "my_list = []\n",
    "print(my_list)"
   ]
  },
  {
   "cell_type": "code",
   "execution_count": 54,
   "id": "32860105",
   "metadata": {},
   "outputs": [
    {
     "name": "stdout",
     "output_type": "stream",
     "text": [
      "[1, 4.5, 'book', (2-8j)]\n"
     ]
    }
   ],
   "source": [
    "#create a list with lots of different things in it\n",
    "my_list = [1,4.5,\"book\",2-8j]\n",
    "print(my_list)"
   ]
  },
  {
   "cell_type": "code",
   "execution_count": 55,
   "id": "44019637",
   "metadata": {},
   "outputs": [
    {
     "name": "stdout",
     "output_type": "stream",
     "text": [
      "Entry 0 is 1\n",
      "Entry 1 is 4.5\n",
      "Entry 2 is book\n",
      "Entry 3 is (2-8j)\n"
     ]
    }
   ],
   "source": [
    "for index in range(len(my_list)):\n",
    "    print(\"Entry\",index,\"is\",my_list[index])"
   ]
  },
  {
   "cell_type": "code",
   "execution_count": 56,
   "id": "3970d6ab",
   "metadata": {},
   "outputs": [
    {
     "name": "stdout",
     "output_type": "stream",
     "text": [
      "[1, 4.5, 'book', (2-8j), 'new thing']\n"
     ]
    }
   ],
   "source": [
    "my_list.append(\"new thing\")\n",
    "print(my_list)"
   ]
  },
  {
   "cell_type": "code",
   "execution_count": 57,
   "id": "9b03328e",
   "metadata": {},
   "outputs": [
    {
     "name": "stdout",
     "output_type": "stream",
     "text": [
      "[1, 4.5, 'book', (2-8j), 'new thing', 0, 8, 11.2]\n"
     ]
    }
   ],
   "source": [
    "#use extend to combine list\n",
    "new_list = [0,8,11.2]\n",
    "my_list.extend(new_list)\n",
    "print(my_list)"
   ]
  },
  {
   "cell_type": "code",
   "execution_count": 2,
   "id": "fef1b312",
   "metadata": {},
   "outputs": [
    {
     "name": "stdout",
     "output_type": "stream",
     "text": [
      "multiplied 3 by 4 and got 12\n"
     ]
    }
   ],
   "source": [
    "##### Functions #######\n",
    "def crazy_mult(left_num,right_num):\n",
    "    answer = left_num * right_num\n",
    "    return answer,left_num,right_num\n",
    "    \n",
    "#function ends with outdent\n",
    "ans,was_left,was_right = crazy_mult(3,4)\n",
    "print(\"multiplied\",was_left,\"by\",was_right,\"and got\",ans)"
   ]
  },
  {
   "cell_type": "code",
   "execution_count": 4,
   "id": "c9fa82ea",
   "metadata": {},
   "outputs": [
    {
     "name": "stdout",
     "output_type": "stream",
     "text": [
      "multiplied 3.5 by 2 and got 7.0\n"
     ]
    }
   ],
   "source": [
    "#function ends with outdent\n",
    "ans,was_left,was_right = crazy_mult(3.5,2) #a floating point input\n",
    "print(\"multiplied\",was_left,\"by\",was_right,\"and got\",ans)"
   ]
  },
  {
   "cell_type": "code",
   "execution_count": 6,
   "id": "1395ce6d",
   "metadata": {},
   "outputs": [
    {
     "name": "stdout",
     "output_type": "stream",
     "text": [
      "function output: -2\n",
      "my_int: 23\n"
     ]
    }
   ],
   "source": [
    "def loc_function(in_val):         #now a function that will use it Danger!\n",
    "    my_int = -5                    #we think we are changing it!\n",
    "    tmp = in_val + my_int          #we will use the change locally ... \n",
    "    return tmp\n",
    "my_int = 23\n",
    "print(\"function output:\",loc_function(3)) \n",
    "print(\"my_int:\",my_int)"
   ]
  },
  {
   "cell_type": "code",
   "execution_count": 8,
   "id": "fefb4929",
   "metadata": {},
   "outputs": [
    {
     "name": "stdout",
     "output_type": "stream",
     "text": [
      "global output: -2\n",
      "my_int: -5\n"
     ]
    }
   ],
   "source": [
    "def global_function(in_val):       #now a function that will use it Danger!\n",
    "    global my_int\n",
    "    my_int = -5                    #we think we are changing it!\n",
    "    tmp = in_val + my_int          #we will use the change locally ... \n",
    "    return tmp\n",
    "my_int = 23\n",
    "print(\"global output:\",global_function(3))   #value changes!\n",
    "print(\"my_int:\",my_int)"
   ]
  },
  {
   "cell_type": "code",
   "execution_count": 10,
   "id": "ff7b1609",
   "metadata": {},
   "outputs": [
    {
     "name": "stdout",
     "output_type": "stream",
     "text": [
      "original list: [1, 2, 3, 4, 5]\n",
      "in function mod_list: ['a', 'b', 'c']\n",
      "new list: [9, 3, 4, 5, 6]\n",
      "returned ['a', 'b', 'c']\n"
     ]
    }
   ],
   "source": [
    "def mod_list(in_list):\n",
    "    in_list[0] = 9\n",
    "    in_list.append(6)\n",
    "    in_list.pop(1)\n",
    "    in_list = ['a','b','c']  #its local here,so should not be changed, but we changed!\n",
    "    print(\"in function mod_list:\",in_list)\n",
    "    return in_list\n",
    "\n",
    "top_list = [1,2,3,4,5]\n",
    "print(\"original list:\",top_list)\n",
    "got_list = mod_list(top_list)\n",
    "print(\"new list:\",top_list)\n",
    "print(\"returned\",got_list)"
   ]
  },
  {
   "cell_type": "code",
   "execution_count": 11,
   "id": "bd22b94a",
   "metadata": {},
   "outputs": [
    {
     "name": "stdout",
     "output_type": "stream",
     "text": [
      "round to 2 past the decimal: 34.85\n",
      "round to 1 past the decimal: 34.8\n",
      "round to 0 past the decimal: 35.0\n",
      "round to 1 ante the decimal: 30.0\n"
     ]
    }
   ],
   "source": [
    "#Comtrolling precision\n",
    "my_float = 34.8456\n",
    "print(\"round to 2 past the decimal:\", round(my_float,2))\n",
    "print(\"round to 1 past the decimal:\", round(my_float,1))\n",
    "print(\"round to 0 past the decimal:\", round(my_float,0))\n",
    "print(\"round to 1 ante the decimal:\", round(my_float,-1))"
   ]
  },
  {
   "cell_type": "code",
   "execution_count": 12,
   "id": "6bbea75b",
   "metadata": {},
   "outputs": [
    {
     "name": "stdout",
     "output_type": "stream",
     "text": [
      "round w/ exp:\t 2.335e+20\n",
      "With commas:\t1,234,454,655.23\n",
      "combined:\t123,456.124\n"
     ]
    }
   ],
   "source": [
    "#Exponents and Commas\n",
    "val_0 = 2.334567e20\n",
    "print('round w/ exp:\\t {:.3e}'.format(val_0)) #round with exponent\n",
    "\n",
    "big_num = 1234454655.23   #too many digits\n",
    "print(\"With commas:\\t{:,}\".format(big_num)) #just commas\n",
    "\n",
    "val_1 = 123456.12387\n",
    "print('combined:\\t{:,.3f}'.format(val_1))  #with commans but float\n",
    "\n"
   ]
  },
  {
   "cell_type": "code",
   "execution_count": 14,
   "id": "9565806a",
   "metadata": {},
   "outputs": [
    {
     "name": "stdout",
     "output_type": "stream",
     "text": [
      "decimal\t 29\n",
      "hex\t 0x1d\n",
      "hex\t 0x1D\n",
      "octal\t 0o35\n",
      "binary\t 0b11101\n"
     ]
    }
   ],
   "source": [
    "#changing base\n",
    "val_2 = 29\n",
    "print(\"decimal\\t\",val_2)   #print in decimal\n",
    "print(\"hex\\t 0x\" + '{:x}'.format(val_2))  #print as a hex\n",
    "print(\"hex\\t 0x\" + '{:X}'.format(val_2))  #print as a hex in Capital\n",
    "print(\"octal\\t 0o\" + '{:o}'.format(val_2)) #prints octal\n",
    "print(\"binary\\t 0b\" + '{:b}'.format(val_2)) #prints binary"
   ]
  }
 ],
 "metadata": {
  "kernelspec": {
   "display_name": "Python 3 (ipykernel)",
   "language": "python",
   "name": "python3"
  },
  "language_info": {
   "codemirror_mode": {
    "name": "ipython",
    "version": 3
   },
   "file_extension": ".py",
   "mimetype": "text/x-python",
   "name": "python",
   "nbconvert_exporter": "python",
   "pygments_lexer": "ipython3",
   "version": "3.11.4"
  }
 },
 "nbformat": 4,
 "nbformat_minor": 5
}

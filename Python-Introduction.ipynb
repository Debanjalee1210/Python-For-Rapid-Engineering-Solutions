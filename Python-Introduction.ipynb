{
 "cells": [
  {
   "cell_type": "code",
   "execution_count": 18,
   "id": "9ddf530a",
   "metadata": {},
   "outputs": [
    {
     "data": {
      "text/plain": [
       "'hello world'"
      ]
     },
     "execution_count": 18,
     "metadata": {},
     "output_type": "execute_result"
    }
   ],
   "source": [
    "mesg = \"hello world\"\n",
    "mesg"
   ]
  },
  {
   "cell_type": "code",
   "execution_count": 19,
   "id": "4195cd54",
   "metadata": {},
   "outputs": [
    {
     "name": "stdout",
     "output_type": "stream",
     "text": [
      "hello world\n"
     ]
    }
   ],
   "source": [
    "print(mesg)"
   ]
  },
  {
   "cell_type": "code",
   "execution_count": 20,
   "id": "706f18c3",
   "metadata": {},
   "outputs": [
    {
     "name": "stdout",
     "output_type": "stream",
     "text": [
      "hello world hello world\n"
     ]
    }
   ],
   "source": [
    "print(mesg,mesg)"
   ]
  },
  {
   "cell_type": "code",
   "execution_count": 21,
   "id": "b8b486c6",
   "metadata": {},
   "outputs": [
    {
     "name": "stdout",
     "output_type": "stream",
     "text": [
      "hello worldhello world\n"
     ]
    }
   ],
   "source": [
    "print(mesg+mesg)"
   ]
  },
  {
   "cell_type": "code",
   "execution_count": 22,
   "id": "eb0b72a7",
   "metadata": {},
   "outputs": [
    {
     "name": "stdout",
     "output_type": "stream",
     "text": [
      "hello world \n",
      "\n",
      "hello world\n"
     ]
    }
   ],
   "source": [
    "print(mesg,\"\\n\")\n",
    "print(mesg)"
   ]
  },
  {
   "cell_type": "code",
   "execution_count": 23,
   "id": "3d983aa6",
   "metadata": {},
   "outputs": [],
   "source": [
    "from sys import exit"
   ]
  },
  {
   "cell_type": "code",
   "execution_count": 24,
   "id": "20de997d",
   "metadata": {},
   "outputs": [
    {
     "name": "stdout",
     "output_type": "stream",
     "text": [
      "going to quit\n"
     ]
    },
    {
     "ename": "SystemExit",
     "evalue": "",
     "output_type": "error",
     "traceback": [
      "An exception has occurred, use %tb to see the full traceback.\n",
      "\u001b[1;31mSystemExit\u001b[0m\n"
     ]
    }
   ],
   "source": [
    "print(\"going to quit\")\n",
    "exit()\n",
    "print(\"never got here\")"
   ]
  },
  {
   "cell_type": "code",
   "execution_count": 25,
   "id": "20a9c06b",
   "metadata": {},
   "outputs": [
    {
     "name": "stdout",
     "output_type": "stream",
     "text": [
      "Help on built-in function exit in module sys:\n",
      "\n",
      "exit(status=None, /)\n",
      "    Exit the interpreter by raising SystemExit(status).\n",
      "    \n",
      "    If the status is omitted or None, it defaults to zero (i.e., success).\n",
      "    If the status is an integer, it will be used as the system exit status.\n",
      "    If it is another kind of object, it will be printed and the system\n",
      "    exit status will be one (i.e., failure).\n",
      "\n"
     ]
    }
   ],
   "source": [
    "help(exit)"
   ]
  },
  {
   "cell_type": "code",
   "execution_count": 26,
   "id": "8d2c4f1b",
   "metadata": {},
   "outputs": [
    {
     "name": "stdout",
     "output_type": "stream",
     "text": [
      "97\n"
     ]
    }
   ],
   "source": [
    "a_val = ord('a')\n",
    "print(a_val)"
   ]
  },
  {
   "cell_type": "code",
   "execution_count": 27,
   "id": "7b85dbf3",
   "metadata": {},
   "outputs": [
    {
     "name": "stdout",
     "output_type": "stream",
     "text": [
      "c\n"
     ]
    }
   ],
   "source": [
    "b_chr = chr(99)\n",
    "print(b_chr)"
   ]
  },
  {
   "cell_type": "code",
   "execution_count": 29,
   "id": "0b05a105",
   "metadata": {},
   "outputs": [
    {
     "name": "stdout",
     "output_type": "stream",
     "text": [
      "Enter a number : 34\n"
     ]
    }
   ],
   "source": [
    "answer = input(\"Enter a number : \")"
   ]
  },
  {
   "cell_type": "code",
   "execution_count": 30,
   "id": "488fec72",
   "metadata": {},
   "outputs": [
    {
     "name": "stdout",
     "output_type": "stream",
     "text": [
      "<class 'str'>\n"
     ]
    }
   ],
   "source": [
    "print(type(answer))"
   ]
  },
  {
   "cell_type": "code",
   "execution_count": 31,
   "id": "9b664f58",
   "metadata": {},
   "outputs": [
    {
     "name": "stdout",
     "output_type": "stream",
     "text": [
      "34\n"
     ]
    }
   ],
   "source": [
    "print(answer)"
   ]
  },
  {
   "cell_type": "code",
   "execution_count": 32,
   "id": "704bb07c",
   "metadata": {},
   "outputs": [
    {
     "name": "stdout",
     "output_type": "stream",
     "text": [
      "enter a new number : 12\n",
      "<class 'int'>\n",
      "12\n"
     ]
    }
   ],
   "source": [
    "var_num = int(input(\"enter a new number : \"))\n",
    "print(type(var_num))\n",
    "print(var_num)"
   ]
  },
  {
   "cell_type": "code",
   "execution_count": 33,
   "id": "7f7a7f8f",
   "metadata": {},
   "outputs": [
    {
     "name": "stdout",
     "output_type": "stream",
     "text": [
      "Give me a number : 1000\n",
      "Got a good value!\n",
      "Its a whooper : 1000\n",
      "all done!\n"
     ]
    }
   ],
   "source": [
    "my_val = int(input(\"Give me a number : \"))\n",
    "if(my_val > 0 ):\n",
    "    print(\"Got a good value!\")\n",
    "    if(my_val<5):\n",
    "        print(\"very small\")\n",
    "    elif(my_val < 10 ):\n",
    "        print(\"Its a kind of small!\")\n",
    "    elif(my_val < 100):\n",
    "        print(\"Its is medium in size!\")\n",
    "    elif(my_val < 1000):\n",
    "        print(\"It is a big one\")\n",
    "    else:\n",
    "        print(\"Its a whooper :\",my_val )\n",
    "\n",
    "print(\"all done!\")"
   ]
  },
  {
   "cell_type": "code",
   "execution_count": 34,
   "id": "ae40da13",
   "metadata": {},
   "outputs": [
    {
     "name": "stdout",
     "output_type": "stream",
     "text": [
      "count is now: 8\n",
      "count is now: 7\n",
      "count is now: 6\n",
      "count is now: 5\n",
      "count is now: 4\n",
      "count is now: 3\n",
      "count is now: 2\n",
      "count is now: 1\n",
      "count is now: 0\n",
      "blast off!\n"
     ]
    }
   ],
   "source": [
    "#while loop\n",
    "counter = 8\n",
    "while(counter >= 0):\n",
    "    print(\"count is now:\",counter)\n",
    "    counter -= 1\n",
    "print(\"blast off!\")"
   ]
  },
  {
   "cell_type": "code",
   "execution_count": 35,
   "id": "73ceca6c",
   "metadata": {},
   "outputs": [
    {
     "name": "stdout",
     "output_type": "stream",
     "text": [
      "0\n",
      "2\n",
      "4\n",
      "6\n",
      "8\n",
      "10\n"
     ]
    }
   ],
   "source": [
    "for index in range(0,12,2):\n",
    "    print(index)"
   ]
  },
  {
   "cell_type": "code",
   "execution_count": 36,
   "id": "54cfb4f0",
   "metadata": {},
   "outputs": [
    {
     "name": "stdout",
     "output_type": "stream",
     "text": [
      "10\n",
      "9\n",
      "8\n",
      "7\n",
      "6\n",
      "5\n",
      "4\n",
      "3\n",
      "2\n",
      "1\n",
      "finihsed the loop\n"
     ]
    }
   ],
   "source": [
    "for i in range(10,0,-1):\n",
    "    print(i)\n",
    "else:\n",
    "    print(\"finihsed the loop\")"
   ]
  },
  {
   "cell_type": "code",
   "execution_count": 37,
   "id": "e4ac9cf0",
   "metadata": {},
   "outputs": [],
   "source": [
    "a= range"
   ]
  },
  {
   "cell_type": "code",
   "execution_count": 38,
   "id": "5c1a383b",
   "metadata": {},
   "outputs": [],
   "source": [
    "import numpy as np\n"
   ]
  },
  {
   "cell_type": "code",
   "execution_count": 39,
   "id": "0ef63e2a",
   "metadata": {},
   "outputs": [
    {
     "name": "stdout",
     "output_type": "stream",
     "text": [
      "[10  9  8  7  6  5  4  3  2  1]\n"
     ]
    }
   ],
   "source": [
    "a = np.arange(10,0,-1)\n",
    "print(a)"
   ]
  },
  {
   "cell_type": "code",
   "execution_count": 40,
   "id": "73978ff6",
   "metadata": {},
   "outputs": [
    {
     "name": "stdout",
     "output_type": "stream",
     "text": [
      "range(0, 10)\n"
     ]
    }
   ],
   "source": [
    "my_rng = range(10)\n",
    "print(my_rng)"
   ]
  },
  {
   "cell_type": "code",
   "execution_count": 41,
   "id": "b94dfaf3",
   "metadata": {},
   "outputs": [
    {
     "name": "stdout",
     "output_type": "stream",
     "text": [
      "the range is :  range(0, 10)\n"
     ]
    }
   ],
   "source": [
    "print(\"the range is : \", my_rng)"
   ]
  },
  {
   "cell_type": "code",
   "execution_count": 42,
   "id": "81b37902",
   "metadata": {},
   "outputs": [
    {
     "name": "stdout",
     "output_type": "stream",
     "text": [
      "the list of my range is :  [0, 1, 2, 3, 4, 5, 6, 7, 8, 9]\n"
     ]
    }
   ],
   "source": [
    "print(\"the list of my range is : \",list(my_rng))"
   ]
  },
  {
   "cell_type": "code",
   "execution_count": 43,
   "id": "ca45490e",
   "metadata": {},
   "outputs": [
    {
     "name": "stdout",
     "output_type": "stream",
     "text": [
      "[0 1 2 3 4 5 6 7 8 9]\n"
     ]
    }
   ],
   "source": [
    "my_nums = np.arange(10)\n",
    "print(my_nums)"
   ]
  },
  {
   "cell_type": "code",
   "execution_count": 44,
   "id": "e9244884",
   "metadata": {},
   "outputs": [
    {
     "name": "stdout",
     "output_type": "stream",
     "text": [
      "0.0\n",
      "0.1\n",
      "0.2\n",
      "0.30000000000000004\n",
      "0.4\n",
      "0.5\n",
      "0.6000000000000001\n",
      "0.7000000000000001\n",
      "0.8\n",
      "0.9\n"
     ]
    }
   ],
   "source": [
    "for index in np.arange(0,1,0.1):\n",
    "    print(index)"
   ]
  },
  {
   "cell_type": "code",
   "execution_count": 45,
   "id": "65789cc8",
   "metadata": {},
   "outputs": [
    {
     "name": "stdout",
     "output_type": "stream",
     "text": [
      "linspace in a for loop\n",
      "0.0\n",
      "0.5\n",
      "1.0\n",
      "1.5\n",
      "2.0\n",
      "enumerating ...\n",
      "0 a\n",
      "1 b\n",
      "2 c\n"
     ]
    }
   ],
   "source": [
    "print(\"linspace in a for loop\")\n",
    "for val in np.linspace(0,2,5):\n",
    "    print(val)\n",
    "print(\"enumerating ...\")\n",
    "alphs = ['a','b','c']\n",
    "for index,val in enumerate(alphs):\n",
    "    print(index,val)"
   ]
  },
  {
   "cell_type": "code",
   "execution_count": 46,
   "id": "614a4f39",
   "metadata": {},
   "outputs": [
    {
     "name": "stdout",
     "output_type": "stream",
     "text": [
      "[]\n"
     ]
    }
   ],
   "source": [
    "#Creating list\n",
    "my_list = []\n",
    "print(my_list)"
   ]
  },
  {
   "cell_type": "code",
   "execution_count": 47,
   "id": "0378ba0b",
   "metadata": {},
   "outputs": [
    {
     "name": "stdout",
     "output_type": "stream",
     "text": [
      "[1, 4.5, 'book', (2-8j)]\n"
     ]
    }
   ],
   "source": [
    "#create a list with lots of different things in it\n",
    "my_list = [1,4.5,\"book\",2-8j]\n",
    "print(my_list)"
   ]
  },
  {
   "cell_type": "code",
   "execution_count": 48,
   "id": "d098c5da",
   "metadata": {},
   "outputs": [
    {
     "name": "stdout",
     "output_type": "stream",
     "text": [
      "Entry 0 is 1\n",
      "Entry 1 is 4.5\n",
      "Entry 2 is book\n",
      "Entry 3 is (2-8j)\n"
     ]
    }
   ],
   "source": [
    "for index in range(len(my_list)):\n",
    "    print(\"Entry\",index,\"is\",my_list[index])"
   ]
  },
  {
   "cell_type": "code",
   "execution_count": 49,
   "id": "1a017f1e",
   "metadata": {},
   "outputs": [
    {
     "name": "stdout",
     "output_type": "stream",
     "text": [
      "[1, 4.5, 'book', (2-8j), 'new thing']\n"
     ]
    }
   ],
   "source": [
    "my_list.append(\"new thing\")\n",
    "print(my_list)"
   ]
  },
  {
   "cell_type": "code",
   "execution_count": 50,
   "id": "263d7d76",
   "metadata": {},
   "outputs": [
    {
     "name": "stdout",
     "output_type": "stream",
     "text": [
      "[1, 4.5, 'book', (2-8j), 'new thing', 0, 8, 11.2]\n"
     ]
    }
   ],
   "source": [
    "#use extend to combine list\n",
    "new_list = [0,8,11.2]\n",
    "my_list.extend(new_list)\n",
    "print(my_list)"
   ]
  },
  {
   "cell_type": "code",
   "execution_count": 51,
   "id": "7654904d",
   "metadata": {},
   "outputs": [
    {
     "name": "stdout",
     "output_type": "stream",
     "text": [
      "[1, 2, 3, 4, 5, 6, 7]\n",
      "[1]\n",
      "[4, 5]\n",
      "[1, 2]\n",
      "[6, 7]\n",
      "[1, 2, 3, 4, 5, 6, 7]\n"
     ]
    }
   ],
   "source": [
    "#List Slicing\n",
    "#index   0,1,2,3,4,5,6\n",
    "alist = [1,2,3,4,5,6,7]   \n",
    "print(alist)\n",
    "\n",
    "alist_first = alist[0:1]\n",
    "print(alist_first)\n",
    "\n",
    "middle_new = alist[3:5]  #start:end,but end isn't included\n",
    "print(middle_new)\n",
    "\n",
    "first_few = alist[:2]\n",
    "print(first_few)\n",
    "\n",
    "last_few = alist[5:]\n",
    "print(last_few)\n",
    "print(alist)"
   ]
  },
  {
   "cell_type": "code",
   "execution_count": 52,
   "id": "d0527bfe",
   "metadata": {},
   "outputs": [
    {
     "name": "stdout",
     "output_type": "stream",
     "text": [
      "list added :  [1, 2, 3, 4, 5, 6]\n",
      "Alternare way : [1, 2, 3, 4, 5, 6]\n",
      "[4, 9, 5, 6]\n"
     ]
    }
   ],
   "source": [
    "#adding lists\n",
    "list1 = [1,2,3]\n",
    "list2 = [4,5,6]\n",
    "list3 = list1 + list2\n",
    "print(\"list added : \",list3)\n",
    "\n",
    "#another way to extend a list\n",
    "list1 += list2\n",
    "print(\"Alternare way :\", list1)\n",
    "\n",
    "#insert puts in an element - lists are put in as lists\n",
    "list2.insert(1,9)  # insert at position 1, value 9\n",
    "print(list2)"
   ]
  },
  {
   "cell_type": "code",
   "execution_count": 53,
   "id": "4d97a5c3",
   "metadata": {},
   "outputs": [
    {
     "name": "stdout",
     "output_type": "stream",
     "text": [
      "[1, 4.5, 'book', (2-8j), 'new thing', 0, 8, 11.2]\n",
      "11.2\n",
      "[1, 4.5, 'book', (2-8j), 'new thing', 0, 8]\n",
      "(2-8j)\n",
      "[1, 4.5, 'book', 'new thing', 0, 8]\n"
     ]
    }
   ],
   "source": [
    "#Removing from list\n",
    "print(my_list) #using my_list from above\n",
    "last = my_list.pop()\n",
    "print(last)\n",
    "print(my_list)\n",
    "\n",
    "third = my_list.pop(3)\n",
    "print(third)\n",
    "print(my_list)"
   ]
  },
  {
   "cell_type": "code",
   "execution_count": 54,
   "id": "1a34b935",
   "metadata": {},
   "outputs": [
    {
     "name": "stdout",
     "output_type": "stream",
     "text": [
      "[1, 4.5, 'book', 'new thing', 0, 8]\n",
      "[1, 'new thing', 0, 8]\n"
     ]
    },
    {
     "data": {
      "text/plain": [
       "[1, 0, 8]"
      ]
     },
     "execution_count": 54,
     "metadata": {},
     "output_type": "execute_result"
    }
   ],
   "source": [
    "print(my_list) #using my_list from above\n",
    "#take any item off the list and don't return it\n",
    "del(my_list[1:3])\n",
    "print(my_list) #using my_list from above\n",
    "\n",
    "my_list.remove('new thing')\n",
    "my_list"
   ]
  },
  {
   "cell_type": "code",
   "execution_count": 55,
   "id": "fce6471e",
   "metadata": {},
   "outputs": [
    {
     "name": "stdout",
     "output_type": "stream",
     "text": [
      "[1, 0, 8]\n",
      "mylist[-1] is:  8\n",
      "mylist[-2] is:  0\n"
     ]
    }
   ],
   "source": [
    "#Negative Indices\n",
    "print(my_list) #using my_list from above\n",
    "print(\"mylist[-1] is: \",my_list[-1])\n",
    "print(\"mylist[-2] is: \",my_list[-2])"
   ]
  },
  {
   "cell_type": "code",
   "execution_count": 56,
   "id": "dbd7dd06",
   "metadata": {},
   "outputs": [
    {
     "name": "stdout",
     "output_type": "stream",
     "text": [
      "[0, 1, 2, 3, 4, 5, 6, 7, 8, 9]\n",
      "0 1 2 [0, 1, 2]\n",
      "4 1 2 [0, 1, 2]\n"
     ]
    }
   ],
   "source": [
    "#Changing Entries in Lists\n",
    "new_list = [] #create an empty list\n",
    "for index in range(10):\n",
    "    new_list.append(index) # note you cant append toa list that does not exist\n",
    "print(new_list)\n",
    "\n",
    "#putting values into a list\n",
    "x = 0\n",
    "y = 1\n",
    "z = 2\n",
    "\n",
    "num_list = [x,y,z]\n",
    "print(x,y,z,num_list)\n",
    "x=4\n",
    "print(x,y,z,num_list)  #num_list did not change"
   ]
  },
  {
   "cell_type": "code",
   "execution_count": 57,
   "id": "45cc1c83",
   "metadata": {},
   "outputs": [
    {
     "name": "stdout",
     "output_type": "stream",
     "text": [
      "[0, 1, 2]\n",
      "[0, 89, 2]\n",
      "[0, 89, 2]\n",
      "Reverted change: [4, 1, 2]\n",
      "copied list Before change:  [4, 1, 2]\n",
      "After change: [4, 89, 2]\n",
      "original list unchanged : [4, 1, 2]\n"
     ]
    }
   ],
   "source": [
    "#Copying list\n",
    "#list1 = list2 does not create a new list, it just copies the pointer!\n",
    "copy_list = []\n",
    "copy_list = num_list\n",
    "print(copy_list)\n",
    "\n",
    "copy_list[1] = 89\n",
    "print(copy_list)        #both same values\n",
    "print(num_list)\n",
    "\n",
    "num_list = [x,y,z] #revert back\n",
    "print(\"Reverted change:\",num_list)\n",
    "\n",
    "#how to copy\n",
    "copy_list = num_list.copy()\n",
    "print(\"copied list Before change: \",copy_list)        #both different vlaue\n",
    "copy_list[1] = 89\n",
    "print(\"After change:\", copy_list)        #both different vlaue\n",
    "print(\"original list unchanged :\", num_list)\n"
   ]
  },
  {
   "cell_type": "code",
   "execution_count": 58,
   "id": "051793ee",
   "metadata": {},
   "outputs": [
    {
     "name": "stdout",
     "output_type": "stream",
     "text": [
      "[4.0, 1.0, 2.0]\n",
      "sum is 7.0\n",
      "len is 3\n",
      "min is 1.0\n",
      "max is 4.0\n"
     ]
    }
   ],
   "source": [
    "#Other list functions\n",
    "#mapping onto a list\n",
    "float_list = list(map(float,num_list)) #applied float function to each item in list\n",
    "print(float_list)\n",
    "\n",
    "import numpy as np\n",
    "\n",
    "num_list = [4.0, 1.0, 2.0]\n",
    "\n",
    "# Using descriptive variable names instead of shadowing built-ins\n",
    "total = np.sum(num_list)\n",
    "length = len(num_list)\n",
    "\n",
    "# If you need min or max:\n",
    "easy_min = min(num_list)\n",
    "easy_max = max(num_list)\n",
    "\n",
    "print(\"sum is\", total)\n",
    "print(\"len is\", length)\n",
    "print(\"min is\", easy_min)\n",
    "print(\"max is\", easy_max)\n"
   ]
  },
  {
   "cell_type": "code",
   "execution_count": null,
   "id": "a467951d",
   "metadata": {},
   "outputs": [],
   "source": []
  },
  {
   "cell_type": "code",
   "execution_count": null,
   "id": "638d4ca4",
   "metadata": {},
   "outputs": [],
   "source": []
  }
 ],
 "metadata": {
  "kernelspec": {
   "display_name": "Python 3 (ipykernel)",
   "language": "python",
   "name": "python3"
  },
  "language_info": {
   "codemirror_mode": {
    "name": "ipython",
    "version": 3
   },
   "file_extension": ".py",
   "mimetype": "text/x-python",
   "name": "python",
   "nbconvert_exporter": "python",
   "pygments_lexer": "ipython3",
   "version": "3.11.4"
  }
 },
 "nbformat": 4,
 "nbformat_minor": 5
}
